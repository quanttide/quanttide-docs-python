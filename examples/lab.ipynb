{
 "cells": [
  {
   "cell_type": "code",
   "execution_count": 35,
   "outputs": [],
   "source": [
    "import git\n",
    "\n",
    "repo = git.Repo('repo', odbt=git.GitDB)\n",
    "g = git.Git(repo.working_tree_dir)\n",
    "tree = repo.tree()"
   ],
   "metadata": {
    "collapsed": false,
    "pycharm": {
     "name": "#%%\n"
    }
   }
  },
  {
   "cell_type": "code",
   "execution_count": 36,
   "outputs": [
    {
     "data": {
      "text/plain": "<git.Blob \"3fa627c50d069f23ec3780d86f75033579df9c20\">"
     },
     "execution_count": 36,
     "metadata": {},
     "output_type": "execute_result"
    }
   ],
   "source": [
    "blob = tree['README.md']\n",
    "blob"
   ],
   "metadata": {
    "collapsed": false,
    "pycharm": {
     "name": "#%%\n"
    }
   }
  },
  {
   "cell_type": "code",
   "execution_count": 37,
   "outputs": [
    {
     "data": {
      "text/plain": "'commit 99068cf4d9f2195fa79e6aa9bc9ff78adc0ed5f6\\nAuthor: Guo Zhang <zhangguo@quanttide.com>\\nDate:   Tue May 3 16:02:55 2022 +0800\\n\\n    引入19年旧稿\\n\\ncommit ed67b786e2c9245a3b13555d4e93f634e22cfab1\\nAuthor: Guo Zhang <zhangguo@quanttide.com>\\nDate:   Fri Apr 15 20:04:28 2022 +0800\\n\\n    draft: 单元测试入门\\n\\ncommit bdcf18d9f4de7b519313720fca9bc76fe793cc42\\nAuthor: Guo Zhang <zhangguo@quanttide.com>\\nDate:   Thu Nov 4 16:13:00 2021 +0800\\n\\n    重新制定课程大纲\\n\\ncommit 05ed54a2a4f16f679f64fb269b7315e335388b08\\nAuthor: Guo Zhang <zhangguo@quanttide.com>\\nDate:   Thu Apr 29 19:01:37 2021 +0800\\n\\n    create'"
     },
     "execution_count": 37,
     "metadata": {},
     "output_type": "execute_result"
    }
   ],
   "source": [
    "logs = g.log('README.md')\n",
    "logs"
   ],
   "metadata": {
    "collapsed": false,
    "pycharm": {
     "name": "#%%\n"
    }
   }
  },
  {
   "cell_type": "code",
   "execution_count": 38,
   "outputs": [
    {
     "data": {
      "text/plain": "str"
     },
     "execution_count": 38,
     "metadata": {},
     "output_type": "execute_result"
    }
   ],
   "source": [
    "type(logs)"
   ],
   "metadata": {
    "collapsed": false,
    "pycharm": {
     "name": "#%%\n"
    }
   }
  },
  {
   "cell_type": "code",
   "execution_count": 39,
   "outputs": [
    {
     "data": {
      "text/plain": "'commit 99068cf4d9f2195fa79e6aa9bc9ff78adc0ed5f6\\nAuthor: Guo Zhang <zhangguo@quanttide.com>\\nDate:   Tue May 3 16:02:55 2022 +0800\\n\\n    引入19年旧稿\\n\\ncommit ed67b786e2c9245a3b13555d4e93f634e22cfab1\\nAuthor: Guo Zhang <zhangguo@quanttide.com>\\nDate:   Fri Apr 15 20:04:28 2022 +0800\\n\\n    draft: 单元测试入门\\n\\ncommit bdcf18d9f4de7b519313720fca9bc76fe793cc42\\nAuthor: Guo Zhang <zhangguo@quanttide.com>\\nDate:   Thu Nov 4 16:13:00 2021 +0800\\n\\n    重新制定课程大纲\\n\\ncommit 05ed54a2a4f16f679f64fb269b7315e335388b08\\nAuthor: Guo Zhang <zhangguo@quanttide.com>\\nDate:   Thu Apr 29 19:01:37 2021 +0800\\n\\n    create'"
     },
     "execution_count": 39,
     "metadata": {},
     "output_type": "execute_result"
    }
   ],
   "source": [
    "repo.git.log('README.md')"
   ],
   "metadata": {
    "collapsed": false,
    "pycharm": {
     "name": "#%%\n"
    }
   }
  },
  {
   "cell_type": "code",
   "execution_count": 40,
   "outputs": [
    {
     "data": {
      "text/plain": "<git.TagReference \"refs/tags/0.1.0\">"
     },
     "execution_count": 40,
     "metadata": {},
     "output_type": "execute_result"
    }
   ],
   "source": [
    "tag = repo.tag('0.1.0')\n",
    "tag"
   ],
   "metadata": {
    "collapsed": false,
    "pycharm": {
     "name": "#%%\n"
    }
   }
  },
  {
   "cell_type": "code",
   "execution_count": 41,
   "outputs": [
    {
     "data": {
      "text/plain": "<git.Commit \"e8f53c9f0521a58eb891cb74ab47c7ec9b96ea27\">"
     },
     "execution_count": 41,
     "metadata": {},
     "output_type": "execute_result"
    }
   ],
   "source": [
    "tag.commit"
   ],
   "metadata": {
    "collapsed": false,
    "pycharm": {
     "name": "#%%\n"
    }
   }
  },
  {
   "cell_type": "code",
   "execution_count": 42,
   "outputs": [
    {
     "data": {
      "text/plain": "datetime.datetime(2022, 5, 27, 21, 47, 9, tzinfo=<git.objects.util.tzoffset object at 0x10b63a8b0>)"
     },
     "execution_count": 42,
     "metadata": {},
     "output_type": "execute_result"
    }
   ],
   "source": [
    "tag.commit.comitted_datetime"
   ],
   "metadata": {
    "collapsed": false,
    "pycharm": {
     "name": "#%%\n"
    }
   }
  },
  {
   "cell_type": "code",
   "execution_count": 48,
   "outputs": [
    {
     "ename": "TypeError",
     "evalue": "tzinfo argument must be None or of a tzinfo subclass, not type 'int'",
     "output_type": "error",
     "traceback": [
      "\u001B[0;31m---------------------------------------------------------------------------\u001B[0m",
      "\u001B[0;31mTypeError\u001B[0m                                 Traceback (most recent call last)",
      "Input \u001B[0;32mIn [48]\u001B[0m, in \u001B[0;36m<cell line: 2>\u001B[0;34m()\u001B[0m\n\u001B[1;32m      1\u001B[0m \u001B[38;5;28;01mfrom\u001B[39;00m \u001B[38;5;21;01mdatetime\u001B[39;00m \u001B[38;5;28;01mimport\u001B[39;00m datetime\n\u001B[0;32m----> 2\u001B[0m \u001B[43mdatetime\u001B[49m\u001B[38;5;241;43m.\u001B[39;49m\u001B[43mfromtimestamp\u001B[49m\u001B[43m(\u001B[49m\u001B[43mtag\u001B[49m\u001B[38;5;241;43m.\u001B[39;49m\u001B[43mtag\u001B[49m\u001B[38;5;241;43m.\u001B[39;49m\u001B[43mtagged_date\u001B[49m\u001B[43m,\u001B[49m\u001B[43m \u001B[49m\u001B[43mtz\u001B[49m\u001B[38;5;241;43m=\u001B[39;49m\u001B[43mtag\u001B[49m\u001B[38;5;241;43m.\u001B[39;49m\u001B[43mtag\u001B[49m\u001B[38;5;241;43m.\u001B[39;49m\u001B[43mtagger_tz_offset\u001B[49m\u001B[43m)\u001B[49m\u001B[38;5;241m.\u001B[39misoformat()\n",
      "\u001B[0;31mTypeError\u001B[0m: tzinfo argument must be None or of a tzinfo subclass, not type 'int'"
     ]
    }
   ],
   "source": [
    "from datetime import datetime\n",
    "datetime.fromtimestamp(tag.tag.tagged_date, tz=tag.tag.tagger_tz_offset).isoformat()"
   ],
   "metadata": {
    "collapsed": false,
    "pycharm": {
     "name": "#%%\n"
    }
   }
  },
  {
   "cell_type": "code",
   "execution_count": 49,
   "outputs": [
    {
     "name": "stdout",
     "output_type": "stream",
     "text": [
      "-28800\n"
     ]
    }
   ],
   "source": [
    "print(tag.tag.tagger_tz_offset)"
   ],
   "metadata": {
    "collapsed": false,
    "pycharm": {
     "name": "#%%\n"
    }
   }
  }
 ],
 "metadata": {
  "kernelspec": {
   "display_name": "Python 3",
   "language": "python",
   "name": "python3"
  },
  "language_info": {
   "codemirror_mode": {
    "name": "ipython",
    "version": 2
   },
   "file_extension": ".py",
   "mimetype": "text/x-python",
   "name": "python",
   "nbconvert_exporter": "python",
   "pygments_lexer": "ipython2",
   "version": "2.7.6"
  }
 },
 "nbformat": 4,
 "nbformat_minor": 0
}